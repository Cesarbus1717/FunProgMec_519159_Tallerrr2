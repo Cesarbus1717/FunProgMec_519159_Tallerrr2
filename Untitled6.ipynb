{
  "nbformat": 4,
  "nbformat_minor": 0,
  "metadata": {
    "colab": {
      "provenance": [],
      "authorship_tag": "ABX9TyPXLhB+7SIdAUOdD2VTDbD6",
      "include_colab_link": true
    },
    "kernelspec": {
      "name": "python3",
      "display_name": "Python 3"
    },
    "language_info": {
      "name": "python"
    }
  },
  "cells": [
    {
      "cell_type": "markdown",
      "metadata": {
        "id": "view-in-github",
        "colab_type": "text"
      },
      "source": [
        "<a href=\"https://colab.research.google.com/github/Cesarbus1717/FunProgMec_519159_Tallerrr2/blob/main/Untitled6.ipynb\" target=\"_parent\"><img src=\"https://colab.research.google.com/assets/colab-badge.svg\" alt=\"Open In Colab\"/></a>"
      ]
    },
    {
      "cell_type": "code",
      "execution_count": null,
      "metadata": {
        "id": "LnWxe0zZFkxg"
      },
      "outputs": [],
      "source": [
        "Taller 2\n",
        "Fundamento de programación - ingeniería mecánica 000519159\n",
        "\n",
        ". Estudiante: Cesar Bustamante \n",
        ". ID: 000519159\n",
        ". Email:cesar.bustamante@upb.edu.co\n"
      ]
    },
    {
      "cell_type": "code",
      "source": [
        "Problema 1\n",
        "Calcular y mostrar la posición de una partícula que experimenta movimiento uniformemente acelerado a partir de su posición inicial (𝑥0), velocidad inicial (𝑣0) y aceleración (𝑎) en dos instantes de tiempo diferentes.\n",
        "# tiempo \n",
        "\n",
        "t_1 = 0\n",
        "\n",
        "t_2 = 5\n",
        "\n",
        "# posición inicial\n",
        "\n",
        "x_0 = 3\n",
        "\n",
        "# velocidad inicial\n",
        "\n",
        "v_0 = 5\n",
        "\n",
        "# aceleración\n",
        "\n",
        "a = 6\n",
        "\n",
        "c = 1/2\n",
        "\n",
        "x_1 = x_0 + v_0*t_1 + c*a*t_1**2\n",
        "print(x_1)\n",
        "\n",
        "x_2 = x_0 + v_0*t_2 + c*a*t_2**2\n",
        "print(x_2)\n",
        "3.0\n",
        "103.0"
      ],
      "metadata": {
        "id": "i6RAVp6FFpY4"
      },
      "execution_count": null,
      "outputs": []
    },
    {
      "cell_type": "code",
      "source": [
        "Problema 2\n",
        "Calcular y mostrar la distancia entre dos puntos 𝑃1 y 𝑃2 ubicados en las coordenadas (𝑥1, 𝑦1) y (𝑥2, 𝑦2).\n",
        "# distancia 1\n",
        "x_1 = 2\n",
        "x_2 = -5 \n",
        "y_1 = 3\n",
        "y_2 = 4\n",
        "\n",
        "d_1 = (x_2 - x_1)**2 + (y_2 - y_1)**2 ** 0.5\n",
        "print(d_1)\n",
        "\n",
        "# distancia 2\n",
        "\n",
        "x_1 = 0\n",
        "x_2 = 6 \n",
        "y_1 = -2\n",
        "y_2 = 1\n",
        "\n",
        "d_2 = (x_2 - x_1)**2 + (y_2 - y_1)**2 ** 0.5\n",
        "print(d_2)\n",
        "50.0\n",
        "40.728804387837414"
      ],
      "metadata": {
        "id": "onTSobUJFtzu"
      },
      "execution_count": null,
      "outputs": []
    },
    {
      "cell_type": "code",
      "source": [
        "Problema 3\n",
        "A = 5\n",
        "B = 2\n",
        "C = 3 \n",
        "D = -2\n",
        "\n",
        "print(A < B)\n",
        "\n",
        "print(B <= C)\n",
        "\n",
        "print((A == B) and (B > C))\n",
        "                   \n",
        "print((A < C) or (B < C))\n",
        "\n",
        "print(C != B)\n",
        "\n",
        "print((A + D) < C)\n",
        "      \n",
        "print((D - C) >= (-A * B))\n",
        "\n",
        "print(((D * C)== 5) or ((C * A)> 9))\n",
        "\n",
        "print((A * B + C)> (- D * 10))\n",
        "\n",
        "print((4 * B) == (C * 3))\n",
        "False\n",
        "True\n",
        "False\n",
        "True\n",
        "True\n",
        "False\n",
        "True\n",
        "True\n",
        "False\n",
        "False"
      ],
      "metadata": {
        "id": "5SN5b8KMFyI3"
      },
      "execution_count": null,
      "outputs": []
    }
  ]
}